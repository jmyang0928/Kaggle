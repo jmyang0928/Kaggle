{
 "cells": [
  {
   "cell_type": "markdown",
   "id": "b2d50c03",
   "metadata": {},
   "source": [
    "[Fake Bills](https://www.kaggle.com/datasets/alexandrepetit881234/fake-bills)"
   ]
  },
  {
   "cell_type": "code",
   "execution_count": 7,
   "id": "58ade6ff",
   "metadata": {},
   "outputs": [],
   "source": [
    "import pandas as pd\n",
    "billsData=pd.read_csv(\"fake_bills.csv\", sep=';')"
   ]
  },
  {
   "cell_type": "code",
   "execution_count": 8,
   "id": "7687a7d4",
   "metadata": {},
   "outputs": [
    {
     "data": {
      "text/html": [
       "<div>\n",
       "<style scoped>\n",
       "    .dataframe tbody tr th:only-of-type {\n",
       "        vertical-align: middle;\n",
       "    }\n",
       "\n",
       "    .dataframe tbody tr th {\n",
       "        vertical-align: top;\n",
       "    }\n",
       "\n",
       "    .dataframe thead th {\n",
       "        text-align: right;\n",
       "    }\n",
       "</style>\n",
       "<table border=\"1\" class=\"dataframe\">\n",
       "  <thead>\n",
       "    <tr style=\"text-align: right;\">\n",
       "      <th></th>\n",
       "      <th>is_genuine</th>\n",
       "      <th>diagonal</th>\n",
       "      <th>height_left</th>\n",
       "      <th>height_right</th>\n",
       "      <th>margin_low</th>\n",
       "      <th>margin_up</th>\n",
       "      <th>length</th>\n",
       "    </tr>\n",
       "  </thead>\n",
       "  <tbody>\n",
       "    <tr>\n",
       "      <th>0</th>\n",
       "      <td>True</td>\n",
       "      <td>171.81</td>\n",
       "      <td>104.86</td>\n",
       "      <td>104.95</td>\n",
       "      <td>4.52</td>\n",
       "      <td>2.89</td>\n",
       "      <td>112.83</td>\n",
       "    </tr>\n",
       "    <tr>\n",
       "      <th>1</th>\n",
       "      <td>True</td>\n",
       "      <td>171.46</td>\n",
       "      <td>103.36</td>\n",
       "      <td>103.66</td>\n",
       "      <td>3.77</td>\n",
       "      <td>2.99</td>\n",
       "      <td>113.09</td>\n",
       "    </tr>\n",
       "    <tr>\n",
       "      <th>2</th>\n",
       "      <td>True</td>\n",
       "      <td>172.69</td>\n",
       "      <td>104.48</td>\n",
       "      <td>103.50</td>\n",
       "      <td>4.40</td>\n",
       "      <td>2.94</td>\n",
       "      <td>113.16</td>\n",
       "    </tr>\n",
       "    <tr>\n",
       "      <th>3</th>\n",
       "      <td>True</td>\n",
       "      <td>171.36</td>\n",
       "      <td>103.91</td>\n",
       "      <td>103.94</td>\n",
       "      <td>3.62</td>\n",
       "      <td>3.01</td>\n",
       "      <td>113.51</td>\n",
       "    </tr>\n",
       "    <tr>\n",
       "      <th>4</th>\n",
       "      <td>True</td>\n",
       "      <td>171.73</td>\n",
       "      <td>104.28</td>\n",
       "      <td>103.46</td>\n",
       "      <td>4.04</td>\n",
       "      <td>3.48</td>\n",
       "      <td>112.54</td>\n",
       "    </tr>\n",
       "  </tbody>\n",
       "</table>\n",
       "</div>"
      ],
      "text/plain": [
       "   is_genuine  diagonal  height_left  height_right  margin_low  margin_up  \\\n",
       "0        True    171.81       104.86        104.95        4.52       2.89   \n",
       "1        True    171.46       103.36        103.66        3.77       2.99   \n",
       "2        True    172.69       104.48        103.50        4.40       2.94   \n",
       "3        True    171.36       103.91        103.94        3.62       3.01   \n",
       "4        True    171.73       104.28        103.46        4.04       3.48   \n",
       "\n",
       "   length  \n",
       "0  112.83  \n",
       "1  113.09  \n",
       "2  113.16  \n",
       "3  113.51  \n",
       "4  112.54  "
      ]
     },
     "execution_count": 8,
     "metadata": {},
     "output_type": "execute_result"
    }
   ],
   "source": [
    "billsData.head()"
   ]
  },
  {
   "cell_type": "code",
   "execution_count": 65,
   "id": "4099cf0b",
   "metadata": {},
   "outputs": [
    {
     "name": "stdout",
     "output_type": "stream",
     "text": [
      "0\n"
     ]
    }
   ],
   "source": [
    "import numpy as np\n",
    "billsData=billsData.dropna()    #由於數據集內有包含Nan資料，因此需先移除後才可進行訓練\n",
    "print(billsData.isnull().sum().sum())\n",
    "\n",
    "X=billsData.drop([\"is_genuine\"],axis=1).values\n",
    "Y=np.array(billsData.is_genuine)"
   ]
  },
  {
   "cell_type": "code",
   "execution_count": 66,
   "id": "cfcd6a80",
   "metadata": {},
   "outputs": [
    {
     "name": "stdout",
     "output_type": "stream",
     "text": [
      "[[171.81 104.86 104.95   4.52   2.89 112.83]\n",
      " [171.46 103.36 103.66   3.77   2.99 113.09]\n",
      " [172.69 104.48 103.5    4.4    2.94 113.16]\n",
      " [171.36 103.91 103.94   3.62   3.01 113.51]\n",
      " [171.73 104.28 103.46   4.04   3.48 112.54]]\n",
      "[1, 1, 1, 1, 1]\n"
     ]
    }
   ],
   "source": [
    "Y=[1 if x == True else 0 for x in Y]\n",
    "print(X[0:5])\n",
    "print(Y[0:5])"
   ]
  },
  {
   "cell_type": "code",
   "execution_count": 70,
   "id": "a1a7d8a1",
   "metadata": {},
   "outputs": [],
   "source": [
    "from sklearn.model_selection import train_test_split\n",
    "\n",
    "X_train, X_test, Y_train, Y_test = train_test_split(X, Y, test_size=0.2, random_state=66)"
   ]
  },
  {
   "cell_type": "code",
   "execution_count": 71,
   "id": "9351648f",
   "metadata": {},
   "outputs": [],
   "source": [
    "from sklearn.neighbors import KNeighborsClassifier\n",
    "\n",
    "training_accuracy=[]\n",
    "testing_accuracy=[]\n",
    "n_neighbors_setting=range(1,100)\n",
    "\n",
    "for n in n_neighbors_setting:\n",
    "    KNN_Object=KNeighborsClassifier(n)\n",
    "    KNN_Object.fit(X_train, Y_train)\n",
    "    training_accuracy.append(KNN_Object.score(X_train, Y_train))\n",
    "    testing_accuracy.append(KNN_Object.score(X_test, Y_test))"
   ]
  },
  {
   "cell_type": "code",
   "execution_count": 72,
   "id": "03d9f173",
   "metadata": {},
   "outputs": [
    {
     "data": {
      "image/png": "[encoded data removed]",
      "text/plain": [
       "<Figure size 720x576 with 1 Axes>"
      ]
     },
     "metadata": {
      "needs_background": "light"
     },
     "output_type": "display_data"
    }
   ],
   "source": [
    "import matplotlib.pyplot as plt\n",
    "\n",
    "plt.figure(figsize=(10,8))\n",
    "plt.plot(n_neighbors_setting, training_accuracy, label=\"Training\")\n",
    "plt.plot(n_neighbors_setting, testing_accuracy, label=\"Testing\")\n",
    "plt.xlabel(\"N neighbors\")\n",
    "plt.ylabel(\"Accuracy\")\n",
    "plt.legend(loc=\"upper right\")\n",
    "plt.show()"
   ]
  },
  {
   "cell_type": "code",
   "execution_count": 73,
   "id": "051b0143",
   "metadata": {},
   "outputs": [
    {
     "name": "stdout",
     "output_type": "stream",
     "text": [
      "Best accuracy 0.9965870307167235 at n_neighbor=2\n"
     ]
    }
   ],
   "source": [
    "print(f\"Best accuracy {max(testing_accuracy)} at n_neighbor={testing_accuracy.index(max(testing_accuracy))+1}\")"
   ]
  }
 ],
 "metadata": {
  "kernelspec": {
   "display_name": "Python 3",
   "language": "python",
   "name": "python3"
  },
  "language_info": {
   "codemirror_mode": {
    "name": "ipython",
    "version": 3
   },
   "file_extension": ".py",
   "mimetype": "text/x-python",
   "name": "python",
   "nbconvert_exporter": "python",
   "pygments_lexer": "ipython3",
   "version": "3.8.8"
  }
 },
 "nbformat": 4,
 "nbformat_minor": 5
}
